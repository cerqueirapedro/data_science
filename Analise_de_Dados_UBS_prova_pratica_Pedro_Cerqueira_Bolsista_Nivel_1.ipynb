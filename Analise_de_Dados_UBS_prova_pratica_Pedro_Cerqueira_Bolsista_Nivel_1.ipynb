{
  "nbformat": 4,
  "nbformat_minor": 0,
  "metadata": {
    "colab": {
      "name": "Analise de Dados UBS - prova pratica - Pedro Cerqueira - Bolsista Nivel 1",
      "provenance": [],
      "collapsed_sections": [],
      "include_colab_link": true
    },
    "kernelspec": {
      "name": "python3",
      "display_name": "Python 3"
    }
  },
  "cells": [
    {
      "cell_type": "markdown",
      "metadata": {
        "id": "view-in-github",
        "colab_type": "text"
      },
      "source": [
        "<a href=\"https://colab.research.google.com/github/cerqueirapedro/data_science/blob/master/Analise_de_Dados_UBS_prova_pratica_Pedro_Cerqueira_Bolsista_Nivel_1.ipynb\" target=\"_parent\"><img src=\"https://colab.research.google.com/assets/colab-badge.svg\" alt=\"Open In Colab\"/></a>"
      ]
    },
    {
      "cell_type": "markdown",
      "metadata": {
        "id": "kLI0gJtzDGuQ"
      },
      "source": [
        "<img alt=\"Colaboratory logo\" width=\"15%\" src=\"data:image/png;base64,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\">\n",
        "\n",
        "#### **Segunda etapa - Prova prática - BOLSISTA PRODUÇÃO DE DADOS - NÍVEL 1 (BÁSICO)**\n",
        "*by [Pedro Cerqueira](https://www.linkedin.com/in/pedro-henrique-cerqueira/)*\n",
        "\n",
        "---\n",
        "\n",
        "<center><img alt=\"Analisando UBS\" width=\"80%\" src=\"https://www.cnm.org.br/cms/images/stories/comunicacao_novo/saude/29062018_UBS.jpg\"></center>\n",
        "\n",
        "# Análise dos Dados das Unidades Básicas de Saúde (UBS) - *Brasil*\n",
        "\n",
        "As Unidades Básicas de Saúde (UBS) são a porta de entrada preferencial do Sistema Único de Saúde (SUS). O objetivo desses postos é atender até 80% dos problemas de saúde da população, sem que haja a necessidade de encaminhamento para outros serviços, como emergências e hospitais.\n",
        "\n",
        "**Neste *notebook*, iremos analisar os dados referentes à Unidade Básica de Saúde (UBS), dados estes disponibilizados pelo Ministério da Saúde do Brasil, e ver quais insights podem ser extraídos a partir de dados brutos.**"
      ]
    },
    {
      "cell_type": "markdown",
      "metadata": {
        "id": "0zxQHhIUDF_2"
      },
      "source": [
        "## Obtenção dos Dados\n"
      ]
    },
    {
      "cell_type": "code",
      "metadata": {
        "id": "Vhp2wMPgJ6zX"
      },
      "source": [
        "# importar os pacotes necessarios\n",
        "import pandas as pd\n",
        "import numpy as np"
      ],
      "execution_count": 3,
      "outputs": []
    },
    {
      "cell_type": "code",
      "metadata": {
        "id": "tUmoAT8DLQ5T"
      },
      "source": [
        "# importar o arquivo listings.csv para um DataFrame\n",
        "df = pd.read_csv('https://raw.githubusercontent.com/cidacslab/npd_introducing/master/candidates/ubs.csv')"
      ],
      "execution_count": 4,
      "outputs": []
    },
    {
      "cell_type": "markdown",
      "metadata": {
        "id": "qb5By2nIMS6m"
      },
      "source": [
        "## Análise dos Dados\n"
      ]
    },
    {
      "cell_type": "markdown",
      "metadata": {
        "id": "RYgvuebKNg8-"
      },
      "source": [
        "**Dicionário das variáveis**\n",
        "\n",
        "\n",
        "* cod_munic: IBGE code, lenght: 7 characters.\n",
        "* dsc_bairro: Name of neighborhood.\n",
        "* dsc_cidade: Name of city.\n",
        "* cod_cnes: CNES code\n",
        "* nom_estab: Name of the establishment\n",
        "* dsc_endereco: Address of UBS\n",
        "* dsc_estrut_fisic_ambiencia: Situation-related to general structure\n",
        "* dsc_adap_defic_fisic_idosos: Situation-related to adaptations for the disabled and the elderly\n",
        "* dsc_equipamentos: Situation-related to equipament\n",
        "* dsc_medicamentos: Situation-related to medicine\n",
        "* data_eq: Date variable\n",
        "\n",
        "Antes de iniciar qualquer análise, vamos verificar a cara do nosso *dataset*, analisando as 5 primeiras entradas."
      ]
    },
    {
      "cell_type": "code",
      "metadata": {
        "id": "2iS_dae7YQtO",
        "colab": {
          "base_uri": "https://localhost:8080/",
          "height": 513
        },
        "outputId": "78e8180e-faf2-43e5-d749-ac36199812f5"
      },
      "source": [
        "# mostrar as 5 primeiras entradas\n",
        "df.head()"
      ],
      "execution_count": 5,
      "outputs": [
        {
          "output_type": "execute_result",
          "data": {
            "text/html": [
              "<div>\n",
              "<style scoped>\n",
              "    .dataframe tbody tr th:only-of-type {\n",
              "        vertical-align: middle;\n",
              "    }\n",
              "\n",
              "    .dataframe tbody tr th {\n",
              "        vertical-align: top;\n",
              "    }\n",
              "\n",
              "    .dataframe thead th {\n",
              "        text-align: right;\n",
              "    }\n",
              "</style>\n",
              "<table border=\"1\" class=\"dataframe\">\n",
              "  <thead>\n",
              "    <tr style=\"text-align: right;\">\n",
              "      <th></th>\n",
              "      <th>vlr_latitude</th>\n",
              "      <th>vlr_longitude</th>\n",
              "      <th>cod_munic</th>\n",
              "      <th>cod_cnes</th>\n",
              "      <th>nom_estab</th>\n",
              "      <th>dsc_endereco</th>\n",
              "      <th>dsc_bairro</th>\n",
              "      <th>dsc_cidade</th>\n",
              "      <th>dsc_telefone</th>\n",
              "      <th>dsc_estrut_fisic_ambiencia</th>\n",
              "      <th>dsc_adap_defic_fisic_idosos</th>\n",
              "      <th>dsc_equipamentos</th>\n",
              "      <th>dsc_medicamentos</th>\n",
              "      <th>data_eq</th>\n",
              "    </tr>\n",
              "  </thead>\n",
              "  <tbody>\n",
              "    <tr>\n",
              "      <th>0</th>\n",
              "      <td>-10.911237</td>\n",
              "      <td>-37.062078</td>\n",
              "      <td>280030</td>\n",
              "      <td>3492</td>\n",
              "      <td>US OSWALDO DE SOUZA</td>\n",
              "      <td>TV ADALTO BOTELHO</td>\n",
              "      <td>GETULIO VARGAS</td>\n",
              "      <td>Aracaju</td>\n",
              "      <td>7931791326</td>\n",
              "      <td>Desempenho acima da média</td>\n",
              "      <td>Desempenho muito acima da média</td>\n",
              "      <td>Desempenho mediano ou  um pouco abaixo da média</td>\n",
              "      <td>Desempenho acima da média</td>\n",
              "      <td>2017-06-15</td>\n",
              "    </tr>\n",
              "    <tr>\n",
              "      <th>1</th>\n",
              "      <td>-9.485943</td>\n",
              "      <td>-35.857573</td>\n",
              "      <td>270770</td>\n",
              "      <td>6685315</td>\n",
              "      <td>USF ENFERMEIRO PEDRO JACINTO AREA 09</td>\n",
              "      <td>R 15 DE AGOSTO</td>\n",
              "      <td>CENTRO</td>\n",
              "      <td>Rio Largo</td>\n",
              "      <td>Não se aplica</td>\n",
              "      <td>Desempenho mediano ou  um pouco abaixo da média</td>\n",
              "      <td>Desempenho mediano ou  um pouco abaixo da média</td>\n",
              "      <td>Desempenho mediano ou  um pouco abaixo da média</td>\n",
              "      <td>Desempenho mediano ou  um pouco abaixo da média</td>\n",
              "      <td>2016-07-18</td>\n",
              "    </tr>\n",
              "    <tr>\n",
              "      <th>2</th>\n",
              "      <td>-23.896000</td>\n",
              "      <td>-53.410000</td>\n",
              "      <td>411885</td>\n",
              "      <td>6811299</td>\n",
              "      <td>UNIDADE DE ATENCAO PRIMARIA SAUDE DA FAMILIA</td>\n",
              "      <td>RUA GUILHERME BRUXEL</td>\n",
              "      <td>CENTRO</td>\n",
              "      <td>Perobal</td>\n",
              "      <td>4436251462</td>\n",
              "      <td>Desempenho muito acima da média</td>\n",
              "      <td>Desempenho muito acima da média</td>\n",
              "      <td>Desempenho mediano ou  um pouco abaixo da média</td>\n",
              "      <td>Desempenho muito acima da média</td>\n",
              "      <td>2017-09-11</td>\n",
              "    </tr>\n",
              "    <tr>\n",
              "      <th>3</th>\n",
              "      <td>-16.447874</td>\n",
              "      <td>-41.009860</td>\n",
              "      <td>313580</td>\n",
              "      <td>6335616</td>\n",
              "      <td>POSTO DE SAUDE DE BOM JESUS DA ALDEIA</td>\n",
              "      <td>RUA TEOFILO OTONI</td>\n",
              "      <td>ALDEIA</td>\n",
              "      <td>Jequitinhonha</td>\n",
              "      <td>3337411423</td>\n",
              "      <td>Desempenho mediano ou  um pouco abaixo da média</td>\n",
              "      <td>Desempenho acima da média</td>\n",
              "      <td>Desempenho mediano ou  um pouco abaixo da média</td>\n",
              "      <td>Desempenho mediano ou  um pouco abaixo da média</td>\n",
              "      <td>2017-02-28</td>\n",
              "    </tr>\n",
              "    <tr>\n",
              "      <th>4</th>\n",
              "      <td>-6.573311</td>\n",
              "      <td>-35.107605</td>\n",
              "      <td>250930</td>\n",
              "      <td>6662226</td>\n",
              "      <td>POSTO ANCORA URUBA</td>\n",
              "      <td>RODOVIA PB N 065</td>\n",
              "      <td>SITIO</td>\n",
              "      <td>Mataraca</td>\n",
              "      <td>Não se aplica</td>\n",
              "      <td>Desempenho acima da média</td>\n",
              "      <td>Desempenho acima da média</td>\n",
              "      <td>Desempenho mediano ou  um pouco abaixo da média</td>\n",
              "      <td>Desempenho mediano ou  um pouco abaixo da média</td>\n",
              "      <td>2018-06-04</td>\n",
              "    </tr>\n",
              "  </tbody>\n",
              "</table>\n",
              "</div>"
            ],
            "text/plain": [
              "   vlr_latitude  ...     data_eq\n",
              "0    -10.911237  ...  2017-06-15\n",
              "1     -9.485943  ...  2016-07-18\n",
              "2    -23.896000  ...  2017-09-11\n",
              "3    -16.447874  ...  2017-02-28\n",
              "4     -6.573311  ...  2018-06-04\n",
              "\n",
              "[5 rows x 14 columns]"
            ]
          },
          "metadata": {
            "tags": []
          },
          "execution_count": 5
        }
      ]
    },
    {
      "cell_type": "markdown",
      "metadata": {
        "id": "6-B_qtEaYEd-"
      },
      "source": [
        "### **Primeiras impressões do dataframe:**"
      ]
    },
    {
      "cell_type": "code",
      "metadata": {
        "id": "TFRK0tniLV-G",
        "colab": {
          "base_uri": "https://localhost:8080/"
        },
        "outputId": "4ab28978-7e37-4ad9-d7c3-3093b35ec9ce"
      },
      "source": [
        "# identificar o volume de dados do DataFrame\n",
        "\n",
        "print(\"Entradas:\\t {}\".format(df.shape[0]))\n",
        "print(\"Variáveis:\\t {}\\n\".format(df.shape[1]))\n",
        "\n"
      ],
      "execution_count": 6,
      "outputs": [
        {
          "output_type": "stream",
          "text": [
            "Entradas:\t 37690\n",
            "Variáveis:\t 14\n",
            "\n"
          ],
          "name": "stdout"
        }
      ]
    },
    {
      "cell_type": "code",
      "metadata": {
        "id": "mtl-3YDaFXnk"
      },
      "source": [
        "# Identificar os tipos das variaveis\r\n",
        "df.dtypes"
      ],
      "execution_count": null,
      "outputs": []
    },
    {
      "cell_type": "code",
      "metadata": {
        "colab": {
          "base_uri": "https://localhost:8080/"
        },
        "id": "YoAcYKgAFonh",
        "outputId": "a41245bb-df7b-40a8-970e-8e25839a29b9"
      },
      "source": [
        "df.info()"
      ],
      "execution_count": 8,
      "outputs": [
        {
          "output_type": "stream",
          "text": [
            "<class 'pandas.core.frame.DataFrame'>\n",
            "RangeIndex: 37690 entries, 0 to 37689\n",
            "Data columns (total 14 columns):\n",
            " #   Column                       Non-Null Count  Dtype  \n",
            "---  ------                       --------------  -----  \n",
            " 0   vlr_latitude                 37690 non-null  float64\n",
            " 1   vlr_longitude                37690 non-null  float64\n",
            " 2   cod_munic                    37690 non-null  int64  \n",
            " 3   cod_cnes                     37690 non-null  int64  \n",
            " 4   nom_estab                    37690 non-null  object \n",
            " 5   dsc_endereco                 37690 non-null  object \n",
            " 6   dsc_bairro                   37024 non-null  object \n",
            " 7   dsc_cidade                   37690 non-null  object \n",
            " 8   dsc_telefone                 37690 non-null  object \n",
            " 9   dsc_estrut_fisic_ambiencia   37690 non-null  object \n",
            " 10  dsc_adap_defic_fisic_idosos  37690 non-null  object \n",
            " 11  dsc_equipamentos             37690 non-null  object \n",
            " 12  dsc_medicamentos             37690 non-null  object \n",
            " 13  data_eq                      37690 non-null  object \n",
            "dtypes: float64(2), int64(2), object(10)\n",
            "memory usage: 4.0+ MB\n"
          ],
          "name": "stdout"
        }
      ]
    },
    {
      "cell_type": "code",
      "metadata": {
        "colab": {
          "base_uri": "https://localhost:8080/",
          "height": 297
        },
        "id": "EC1QIv70FrzA",
        "outputId": "1951408d-9893-40df-9d7a-87e8bf7de3e6"
      },
      "source": [
        "df.describe()"
      ],
      "execution_count": 9,
      "outputs": [
        {
          "output_type": "execute_result",
          "data": {
            "text/html": [
              "<div>\n",
              "<style scoped>\n",
              "    .dataframe tbody tr th:only-of-type {\n",
              "        vertical-align: middle;\n",
              "    }\n",
              "\n",
              "    .dataframe tbody tr th {\n",
              "        vertical-align: top;\n",
              "    }\n",
              "\n",
              "    .dataframe thead th {\n",
              "        text-align: right;\n",
              "    }\n",
              "</style>\n",
              "<table border=\"1\" class=\"dataframe\">\n",
              "  <thead>\n",
              "    <tr style=\"text-align: right;\">\n",
              "      <th></th>\n",
              "      <th>vlr_latitude</th>\n",
              "      <th>vlr_longitude</th>\n",
              "      <th>cod_munic</th>\n",
              "      <th>cod_cnes</th>\n",
              "    </tr>\n",
              "  </thead>\n",
              "  <tbody>\n",
              "    <tr>\n",
              "      <th>count</th>\n",
              "      <td>37690.000000</td>\n",
              "      <td>37690.000000</td>\n",
              "      <td>37690.000000</td>\n",
              "      <td>3.769000e+04</td>\n",
              "    </tr>\n",
              "    <tr>\n",
              "      <th>mean</th>\n",
              "      <td>-15.537453</td>\n",
              "      <td>-45.110433</td>\n",
              "      <td>314340.149615</td>\n",
              "      <td>3.120729e+06</td>\n",
              "    </tr>\n",
              "    <tr>\n",
              "      <th>std</th>\n",
              "      <td>8.427503</td>\n",
              "      <td>6.384263</td>\n",
              "      <td>93428.784933</td>\n",
              "      <td>1.500840e+06</td>\n",
              "    </tr>\n",
              "    <tr>\n",
              "      <th>min</th>\n",
              "      <td>-33.735023</td>\n",
              "      <td>-72.960098</td>\n",
              "      <td>110001.000000</td>\n",
              "      <td>1.080000e+02</td>\n",
              "    </tr>\n",
              "    <tr>\n",
              "      <th>25%</th>\n",
              "      <td>-22.725303</td>\n",
              "      <td>-49.353252</td>\n",
              "      <td>250572.500000</td>\n",
              "      <td>2.292798e+06</td>\n",
              "    </tr>\n",
              "    <tr>\n",
              "      <th>50%</th>\n",
              "      <td>-16.329637</td>\n",
              "      <td>-44.447222</td>\n",
              "      <td>312410.000000</td>\n",
              "      <td>2.554530e+06</td>\n",
              "    </tr>\n",
              "    <tr>\n",
              "      <th>75%</th>\n",
              "      <td>-7.586282</td>\n",
              "      <td>-40.156537</td>\n",
              "      <td>355030.000000</td>\n",
              "      <td>3.356335e+06</td>\n",
              "    </tr>\n",
              "    <tr>\n",
              "      <th>max</th>\n",
              "      <td>4.596000</td>\n",
              "      <td>-32.411000</td>\n",
              "      <td>530010.000000</td>\n",
              "      <td>8.016593e+06</td>\n",
              "    </tr>\n",
              "  </tbody>\n",
              "</table>\n",
              "</div>"
            ],
            "text/plain": [
              "       vlr_latitude  vlr_longitude      cod_munic      cod_cnes\n",
              "count  37690.000000   37690.000000   37690.000000  3.769000e+04\n",
              "mean     -15.537453     -45.110433  314340.149615  3.120729e+06\n",
              "std        8.427503       6.384263   93428.784933  1.500840e+06\n",
              "min      -33.735023     -72.960098  110001.000000  1.080000e+02\n",
              "25%      -22.725303     -49.353252  250572.500000  2.292798e+06\n",
              "50%      -16.329637     -44.447222  312410.000000  2.554530e+06\n",
              "75%       -7.586282     -40.156537  355030.000000  3.356335e+06\n",
              "max        4.596000     -32.411000  530010.000000  8.016593e+06"
            ]
          },
          "metadata": {
            "tags": []
          },
          "execution_count": 9
        }
      ]
    },
    {
      "cell_type": "markdown",
      "metadata": {
        "id": "yz1urSUGW9iE"
      },
      "source": [
        "### **Q1. Create a variable with the UF code (Unidade Federativa) where the UBS are located.**"
      ]
    },
    {
      "cell_type": "code",
      "metadata": {
        "id": "plk2FjbCXOqP",
        "colab": {
          "base_uri": "https://localhost:8080/"
        },
        "outputId": "9c9aeec5-f15a-4b25-9da4-0267b66a73a0"
      },
      "source": [
        "# Criando uma coluna 'uf' e copiando os mesmos valores da coluna 'cod_munic'\n",
        "df['uf'] = df.cod_munic\n",
        "\n",
        "df.uf.head()"
      ],
      "execution_count": 10,
      "outputs": [
        {
          "output_type": "execute_result",
          "data": {
            "text/plain": [
              "0    280030\n",
              "1    270770\n",
              "2    411885\n",
              "3    313580\n",
              "4    250930\n",
              "Name: uf, dtype: int64"
            ]
          },
          "metadata": {
            "tags": []
          },
          "execution_count": 10
        }
      ]
    },
    {
      "cell_type": "markdown",
      "metadata": {
        "id": "fIsMznrbGM6U"
      },
      "source": [
        "Como já era de se esperar a coluna 'uf' tem o mesmo tipo da 'cod_munic', int. Mas para separar os dois primeiros digitos de cada número que correspondem ao codigo UF de cada estado, iremos transformar para string."
      ]
    },
    {
      "cell_type": "code",
      "metadata": {
        "colab": {
          "base_uri": "https://localhost:8080/"
        },
        "id": "7g2tF73CGRe-",
        "outputId": "704c5f23-a56c-4098-9560-65cd4a77ebdd"
      },
      "source": [
        "# Converter a coluna UF para String\r\n",
        "df['uf'] = df['uf'].apply(str)\r\n",
        "\r\n",
        "df.uf.head()"
      ],
      "execution_count": 11,
      "outputs": [
        {
          "output_type": "execute_result",
          "data": {
            "text/plain": [
              "0    280030\n",
              "1    270770\n",
              "2    411885\n",
              "3    313580\n",
              "4    250930\n",
              "Name: uf, dtype: object"
            ]
          },
          "metadata": {
            "tags": []
          },
          "execution_count": 11
        }
      ]
    },
    {
      "cell_type": "markdown",
      "metadata": {
        "id": "kMiGRdgIGYdn"
      },
      "source": [
        "Como podemos ver o tipo foi alterado para object que neste caso irá corresponder como uma String, isso acontece porque o pandas utiliza o sistema de tipos do numpy por trás (o dtype), e não o tipo padrão do python diretamente.\r\n",
        "\r\n",
        "Devido a algumas características do dtype, o pandas escolheu salvar valores do tipo string como objeto para evitar algumas limitações."
      ]
    },
    {
      "cell_type": "code",
      "metadata": {
        "colab": {
          "base_uri": "https://localhost:8080/"
        },
        "id": "hFizOJe1GhDE",
        "outputId": "32a5c63f-7dbc-4183-cd6b-acba67634145"
      },
      "source": [
        "# Agora mudamos o valor da string para somente as duas primeiras caracteres, que correspondem aos codigos UF.\r\n",
        "df['uf'] = df['uf'].map(lambda x: x[0:2])\r\n",
        "\r\n",
        "df.uf.head()"
      ],
      "execution_count": 12,
      "outputs": [
        {
          "output_type": "execute_result",
          "data": {
            "text/plain": [
              "0    28\n",
              "1    27\n",
              "2    41\n",
              "3    31\n",
              "4    25\n",
              "Name: uf, dtype: object"
            ]
          },
          "metadata": {
            "tags": []
          },
          "execution_count": 12
        }
      ]
    },
    {
      "cell_type": "markdown",
      "metadata": {
        "id": "iHXvvHIxaoNc"
      },
      "source": [
        "### **Q1 - A. What are the UF codes present in the database?** "
      ]
    },
    {
      "cell_type": "code",
      "metadata": {
        "id": "q2wWSfeRbmBo",
        "colab": {
          "base_uri": "https://localhost:8080/"
        },
        "outputId": "6f21d1ae-4841-412e-a920-f409383acbd3"
      },
      "source": [
        "# Visualizando os valores unicos presentes na coluna UF.\n",
        "df.uf.unique()"
      ],
      "execution_count": 14,
      "outputs": [
        {
          "output_type": "execute_result",
          "data": {
            "text/plain": [
              "array(['28', '27', '41', '31', '25', '23', '21', '13', '51', '52', '42',\n",
              "       '43', '29', '26', '33', '17', '11', '24', '50', '22', '14', '35',\n",
              "       '15', '16', '32', '12', '53'], dtype=object)"
            ]
          },
          "metadata": {
            "tags": []
          },
          "execution_count": 14
        }
      ]
    },
    {
      "cell_type": "markdown",
      "metadata": {
        "id": "7x4aw1j5wNmn"
      },
      "source": [
        "### **Q1 - B. What are the most frequent UF codes (the 5 most frequent) and how often do they occur?**"
      ]
    },
    {
      "cell_type": "code",
      "metadata": {
        "id": "ff-8gUahLk-C",
        "colab": {
          "base_uri": "https://localhost:8080/"
        },
        "outputId": "81fd3d8a-f56f-423f-8955-4ad93649cb2a"
      },
      "source": [
        "# Mostrando os 5 primeiros UF mais frenquentes no DataFrame e a quantidade de frequencia de cada um.\n",
        "df.uf.value_counts().head()"
      ],
      "execution_count": 15,
      "outputs": [
        {
          "output_type": "execute_result",
          "data": {
            "text/plain": [
              "31    4859\n",
              "35    4169\n",
              "29    3571\n",
              "41    2408\n",
              "43    2225\n",
              "Name: uf, dtype: int64"
            ]
          },
          "metadata": {
            "tags": []
          },
          "execution_count": 15
        }
      ]
    },
    {
      "cell_type": "code",
      "metadata": {
        "colab": {
          "base_uri": "https://localhost:8080/"
        },
        "id": "irAwuDnJZG22",
        "outputId": "7edae9f0-b230-4cc2-ba1d-e768811d31a8"
      },
      "source": [
        "# Mostrando os 5 UF menos frenquentes no DataFrame e a quantidade de frequencia de cada um.\r\n",
        "df.uf.value_counts().tail()"
      ],
      "execution_count": 62,
      "outputs": [
        {
          "output_type": "execute_result",
          "data": {
            "text/plain": [
              "11    266\n",
              "12    173\n",
              "16    158\n",
              "14    157\n",
              "53    132\n",
              "Name: uf, dtype: int64"
            ]
          },
          "metadata": {
            "tags": []
          },
          "execution_count": 62
        }
      ]
    },
    {
      "cell_type": "markdown",
      "metadata": {
        "id": "IXn2oIo5qx-w"
      },
      "source": [
        "### **Q1- C. How many cities are there in these 5 most frequent UFs?**"
      ]
    },
    {
      "cell_type": "code",
      "metadata": {
        "id": "x2ayzBajqxyd",
        "colab": {
          "base_uri": "https://localhost:8080/"
        },
        "outputId": "08f47762-b878-4f64-c853-688ec9b9b882"
      },
      "source": [
        "# Total de cidades com codigo UF 31 - Mina Gerais\n",
        "\n",
        "# df.loc[df.uf == \"31\", ['dsc_cidade']].value_counts().shape\n",
        "df.loc[df.uf == \"31\", ['dsc_cidade']].value_counts()"
      ],
      "execution_count": 16,
      "outputs": [
        {
          "output_type": "execute_result",
          "data": {
            "text/plain": [
              "dsc_cidade             \n",
              "Belo Horizonte             147\n",
              "Contagem                    97\n",
              "Montes Claros               87\n",
              "Governador Valadares        60\n",
              "Uberlândia                  58\n",
              "                          ... \n",
              "Goiabeira                    1\n",
              "Santo Antônio do Itambé      1\n",
              "Santo Antônio do Grama       1\n",
              "Santana do Jacaré            1\n",
              "Cajuri                       1\n",
              "Length: 849, dtype: int64"
            ]
          },
          "metadata": {
            "tags": []
          },
          "execution_count": 16
        }
      ]
    },
    {
      "cell_type": "code",
      "metadata": {
        "id": "91UujDr6ueqE",
        "colab": {
          "base_uri": "https://localhost:8080/"
        },
        "outputId": "643f02ab-6a0d-4b85-f6e6-9c6377580684"
      },
      "source": [
        "# Total de cidades com codigo UF 35 - São Paulo\n",
        "\n",
        "df.loc[df.uf == \"35\", ['dsc_cidade']].value_counts().shape"
      ],
      "execution_count": 17,
      "outputs": [
        {
          "output_type": "execute_result",
          "data": {
            "text/plain": [
              "(643,)"
            ]
          },
          "metadata": {
            "tags": []
          },
          "execution_count": 17
        }
      ]
    },
    {
      "cell_type": "code",
      "metadata": {
        "colab": {
          "base_uri": "https://localhost:8080/"
        },
        "id": "hx2bdRGjH4Pa",
        "outputId": "538f3279-c918-434a-f7cb-bdd845041344"
      },
      "source": [
        "# Total de cidades com codigo UF 29 - Bahia\r\n",
        "\r\n",
        "df.loc[df.uf == \"29\", ['dsc_cidade']].value_counts().shape"
      ],
      "execution_count": 18,
      "outputs": [
        {
          "output_type": "execute_result",
          "data": {
            "text/plain": [
              "(417,)"
            ]
          },
          "metadata": {
            "tags": []
          },
          "execution_count": 18
        }
      ]
    },
    {
      "cell_type": "code",
      "metadata": {
        "colab": {
          "base_uri": "https://localhost:8080/"
        },
        "id": "piuQSyaEH6Zz",
        "outputId": "315e42f3-84d2-4156-c72c-9e1feab5f28d"
      },
      "source": [
        "# Total de cidades com codigo UF 41 - Parana\r\n",
        "\r\n",
        "df.loc[df.uf == \"41\", ['dsc_cidade']].value_counts().shape"
      ],
      "execution_count": 19,
      "outputs": [
        {
          "output_type": "execute_result",
          "data": {
            "text/plain": [
              "(398,)"
            ]
          },
          "metadata": {
            "tags": []
          },
          "execution_count": 19
        }
      ]
    },
    {
      "cell_type": "code",
      "metadata": {
        "colab": {
          "base_uri": "https://localhost:8080/"
        },
        "id": "bbTBwWmjH8yA",
        "outputId": "69229a6d-a9d7-470c-b004-bd7ff64dba6b"
      },
      "source": [
        "# Total de cidades com codigo UF 43 - Rio Grande do Sul\r\n",
        "\r\n",
        "df.loc[df.uf == \"43\", ['dsc_cidade']].value_counts().shape"
      ],
      "execution_count": 20,
      "outputs": [
        {
          "output_type": "execute_result",
          "data": {
            "text/plain": [
              "(493,)"
            ]
          },
          "metadata": {
            "tags": []
          },
          "execution_count": 20
        }
      ]
    },
    {
      "cell_type": "markdown",
      "metadata": {
        "id": "7b6RMWpuHKN-"
      },
      "source": [
        "### **Q2. There is a fictitious date variable (data_eq) in the database created only for this selection process. Create a variable with the year extracted from that variable.**"
      ]
    },
    {
      "cell_type": "code",
      "metadata": {
        "id": "ueLPNWvPHgfB",
        "colab": {
          "base_uri": "https://localhost:8080/"
        },
        "outputId": "14c1c707-de03-43bc-d59c-c97236992827"
      },
      "source": [
        "# Criando uma coluna 'ano' e copiando os mesmos valores da coluna 'data_eq'\n",
        "df['ano'] = df.data_eq\n",
        "\n",
        "df.ano.head()"
      ],
      "execution_count": 21,
      "outputs": [
        {
          "output_type": "execute_result",
          "data": {
            "text/plain": [
              "0    2017-06-15\n",
              "1    2016-07-18\n",
              "2    2017-09-11\n",
              "3    2017-02-28\n",
              "4    2018-06-04\n",
              "Name: ano, dtype: object"
            ]
          },
          "metadata": {
            "tags": []
          },
          "execution_count": 21
        }
      ]
    },
    {
      "cell_type": "code",
      "metadata": {
        "colab": {
          "base_uri": "https://localhost:8080/"
        },
        "id": "eJyqhc_sIu5q",
        "outputId": "c2a1506d-bc2e-46d5-92b1-8b052acc313a"
      },
      "source": [
        "# Agora mudamos o valor da string para somente as quatro primeiras caracteres, que correspondem aos anos.\r\n",
        "df['ano'] = df['ano'].map(lambda x: x[0:4])\r\n",
        "\r\n",
        "df.ano.head()"
      ],
      "execution_count": 22,
      "outputs": [
        {
          "output_type": "execute_result",
          "data": {
            "text/plain": [
              "0    2017\n",
              "1    2016\n",
              "2    2017\n",
              "3    2017\n",
              "4    2018\n",
              "Name: ano, dtype: object"
            ]
          },
          "metadata": {
            "tags": []
          },
          "execution_count": 22
        }
      ]
    },
    {
      "cell_type": "markdown",
      "metadata": {
        "id": "MFa5NbnLJMcd"
      },
      "source": [
        "### **Q2 - A. Show the distribution of records by year**\n",
        "\n"
      ]
    },
    {
      "cell_type": "code",
      "metadata": {
        "id": "UxVJqJ_3W59I",
        "colab": {
          "base_uri": "https://localhost:8080/"
        },
        "outputId": "90237df3-fd87-4679-f963-6ade04a9ce57"
      },
      "source": [
        "# Anos que estão registrados na coluna ano\n",
        "df.ano.unique()"
      ],
      "execution_count": 24,
      "outputs": [
        {
          "output_type": "execute_result",
          "data": {
            "text/plain": [
              "array(['2017', '2016', '2018'], dtype=object)"
            ]
          },
          "metadata": {
            "tags": []
          },
          "execution_count": 24
        }
      ]
    },
    {
      "cell_type": "code",
      "metadata": {
        "id": "MD_xa143JZpi",
        "colab": {
          "base_uri": "https://localhost:8080/"
        },
        "outputId": "9dc87c22-951a-415d-b4d4-5ae16292009d"
      },
      "source": [
        "# Distribuição dos registros por ano\n",
        "df.ano.value_counts()"
      ],
      "execution_count": 23,
      "outputs": [
        {
          "output_type": "execute_result",
          "data": {
            "text/plain": [
              "2018    12611\n",
              "2017    12551\n",
              "2016    12528\n",
              "Name: ano, dtype: int64"
            ]
          },
          "metadata": {
            "tags": []
          },
          "execution_count": 23
        }
      ]
    },
    {
      "cell_type": "markdown",
      "metadata": {
        "id": "vTneAMRUYvr1"
      },
      "source": [
        "### **Q3. Create a variable with the length of the phone field.**"
      ]
    },
    {
      "cell_type": "markdown",
      "metadata": {
        "id": "QAFIaTODJu3J"
      },
      "source": [
        "Aprofundando a analise sobre a variavel dsc_telefone"
      ]
    },
    {
      "cell_type": "code",
      "metadata": {
        "id": "_VzNhrEgY82N",
        "colab": {
          "base_uri": "https://localhost:8080/"
        },
        "outputId": "30c6c291-1218-4932-d57a-9a1504ea8969"
      },
      "source": [
        "# As 5 primeiras entradas da coluna\r\n",
        "df.dsc_telefone.head()"
      ],
      "execution_count": 25,
      "outputs": [
        {
          "output_type": "execute_result",
          "data": {
            "text/plain": [
              "0       7931791326\n",
              "1    Não se aplica\n",
              "2       4436251462\n",
              "3       3337411423\n",
              "4    Não se aplica\n",
              "Name: dsc_telefone, dtype: object"
            ]
          },
          "metadata": {
            "tags": []
          },
          "execution_count": 25
        }
      ]
    },
    {
      "cell_type": "code",
      "metadata": {
        "colab": {
          "base_uri": "https://localhost:8080/"
        },
        "id": "3KOanoT_KLu9",
        "outputId": "c1dba46f-d2a7-4558-e6e3-98f8c4c21d4d"
      },
      "source": [
        "# Qtd de entradas e valores unicos\r\n",
        "df.dsc_telefone.describe()"
      ],
      "execution_count": 26,
      "outputs": [
        {
          "output_type": "execute_result",
          "data": {
            "text/plain": [
              "count             37690\n",
              "unique            25185\n",
              "top       Não se aplica\n",
              "freq               7891\n",
              "Name: dsc_telefone, dtype: object"
            ]
          },
          "metadata": {
            "tags": []
          },
          "execution_count": 26
        }
      ]
    },
    {
      "cell_type": "code",
      "metadata": {
        "colab": {
          "base_uri": "https://localhost:8080/"
        },
        "id": "QUiN9jvYKXaF",
        "outputId": "7b7ea73b-ce2d-43b0-fbc8-b3f3086dfff6"
      },
      "source": [
        "#Visualização de alguns valores unicos\r\n",
        "df.dsc_telefone.unique()"
      ],
      "execution_count": 27,
      "outputs": [
        {
          "output_type": "execute_result",
          "data": {
            "text/plain": [
              "array(['7931791326', 'Não se aplica', '4436251462', ..., '36277071',\n",
              "       '(77) 2291271', '2898842751'], dtype=object)"
            ]
          },
          "metadata": {
            "tags": []
          },
          "execution_count": 27
        }
      ]
    },
    {
      "cell_type": "markdown",
      "metadata": {
        "id": "AKUjWu_PKvCh"
      },
      "source": [
        "### **Q3 - A. What are the least frequent lengths (the 5 least frequent) of phone numbers?**"
      ]
    },
    {
      "cell_type": "code",
      "metadata": {
        "colab": {
          "base_uri": "https://localhost:8080/"
        },
        "id": "bVJ0StXxLGqY",
        "outputId": "629e45f9-bec2-4d0d-9e6d-7f140d078cd8"
      },
      "source": [
        "df.dsc_telefone.str.len().value_counts().tail()"
      ],
      "execution_count": 28,
      "outputs": [
        {
          "output_type": "execute_result",
          "data": {
            "text/plain": [
              "19    5\n",
              "22    2\n",
              "25    1\n",
              "24    1\n",
              "26    1\n",
              "Name: dsc_telefone, dtype: int64"
            ]
          },
          "metadata": {
            "tags": []
          },
          "execution_count": 28
        }
      ]
    },
    {
      "cell_type": "markdown",
      "metadata": {
        "id": "caK5gM-WKw-I"
      },
      "source": [
        "### **Q3 - B. How many records have a phone length other than 10? What is the percentage of this value considering the size of the database?**"
      ]
    },
    {
      "cell_type": "code",
      "metadata": {
        "colab": {
          "base_uri": "https://localhost:8080/"
        },
        "id": "mh70Png_Ldt4",
        "outputId": "7d696889-681c-45f1-976f-ac12616f45d7"
      },
      "source": [
        "# Qtd de registros de telefone de acordo com o comprimento\r\n",
        "df.dsc_telefone.str.len().value_counts()"
      ],
      "execution_count": 29,
      "outputs": [
        {
          "output_type": "execute_result",
          "data": {
            "text/plain": [
              "10    18144\n",
              "13     8603\n",
              "12     4871\n",
              "11     3029\n",
              "8      1867\n",
              "7       494\n",
              "14      359\n",
              "9       251\n",
              "15       19\n",
              "16       17\n",
              "17       13\n",
              "20        7\n",
              "18        6\n",
              "19        5\n",
              "22        2\n",
              "25        1\n",
              "24        1\n",
              "26        1\n",
              "Name: dsc_telefone, dtype: int64"
            ]
          },
          "metadata": {
            "tags": []
          },
          "execution_count": 29
        }
      ]
    },
    {
      "cell_type": "code",
      "metadata": {
        "colab": {
          "base_uri": "https://localhost:8080/"
        },
        "id": "yiaxaeYeLy2b",
        "outputId": "a423b821-abf9-4aa3-fcc5-68210fe2f474"
      },
      "source": [
        "# Registros com comprimento diferente de 10\r\n",
        "comp_dif_10 = df.dsc_telefone.str.len().value_counts().sum() - 18144\r\n",
        "comp_dif_10"
      ],
      "execution_count": 30,
      "outputs": [
        {
          "output_type": "execute_result",
          "data": {
            "text/plain": [
              "19546"
            ]
          },
          "metadata": {
            "tags": []
          },
          "execution_count": 30
        }
      ]
    },
    {
      "cell_type": "code",
      "metadata": {
        "colab": {
          "base_uri": "https://localhost:8080/"
        },
        "id": "_icqpXE1McHL",
        "outputId": "2763b314-94db-4489-ca07-6f9c2cccae6d"
      },
      "source": [
        "# Verificando a quantidade de valores nulos\r\n",
        "df.dsc_telefone.isnull().sum()"
      ],
      "execution_count": 31,
      "outputs": [
        {
          "output_type": "execute_result",
          "data": {
            "text/plain": [
              "0"
            ]
          },
          "metadata": {
            "tags": []
          },
          "execution_count": 31
        }
      ]
    },
    {
      "cell_type": "code",
      "metadata": {
        "colab": {
          "base_uri": "https://localhost:8080/"
        },
        "id": "6En-EL__MhjC",
        "outputId": "ff6069e6-23dd-4706-fae7-2caf8fbadef2"
      },
      "source": [
        "# Total de telefones registrados\r\n",
        "total_telefone = df.dsc_telefone.str.len().value_counts().sum()\r\n",
        "total_telefone"
      ],
      "execution_count": 32,
      "outputs": [
        {
          "output_type": "execute_result",
          "data": {
            "text/plain": [
              "37690"
            ]
          },
          "metadata": {
            "tags": []
          },
          "execution_count": 32
        }
      ]
    },
    {
      "cell_type": "code",
      "metadata": {
        "colab": {
          "base_uri": "https://localhost:8080/"
        },
        "id": "JfiEncjpMl9i",
        "outputId": "73e9b7ec-83b8-4ebf-ec46-6bf3ecf8c57e"
      },
      "source": [
        "# total de registros com comprimento igual a 10\r\n",
        "df.dsc_telefone.str.len().value_counts().head(1)"
      ],
      "execution_count": 35,
      "outputs": [
        {
          "output_type": "execute_result",
          "data": {
            "text/plain": [
              "10    18144\n",
              "Name: dsc_telefone, dtype: int64"
            ]
          },
          "metadata": {
            "tags": []
          },
          "execution_count": 35
        }
      ]
    },
    {
      "cell_type": "code",
      "metadata": {
        "colab": {
          "base_uri": "https://localhost:8080/"
        },
        "id": "XzQQgW4NM5g8",
        "outputId": "8b35613f-5452-4419-99c0-776e8eab85aa"
      },
      "source": [
        "# Porcentagem desse valor considerando o tamanho total de registros\r\n",
        "df.dsc_telefone.str.len().value_counts().head(1) / total_telefone * 100"
      ],
      "execution_count": 36,
      "outputs": [
        {
          "output_type": "execute_result",
          "data": {
            "text/plain": [
              "10    48.14009\n",
              "Name: dsc_telefone, dtype: float64"
            ]
          },
          "metadata": {
            "tags": []
          },
          "execution_count": 36
        }
      ]
    },
    {
      "cell_type": "markdown",
      "metadata": {
        "id": "tpc2cHRaWuqA"
      },
      "source": [
        "### **Bonus Question: Is there information in the phone variable that does not correspond to a phone number? If so, remove this information.**"
      ]
    },
    {
      "cell_type": "code",
      "metadata": {
        "colab": {
          "base_uri": "https://localhost:8080/"
        },
        "id": "nMpJ-5AGW3Qv",
        "outputId": "847b7a0f-2443-4a88-f362-40955326b61a"
      },
      "source": [
        "# Sim, temos caracteres como (), além de espaços em branco.\r\n",
        "df.dsc_telefone.unique()"
      ],
      "execution_count": 57,
      "outputs": [
        {
          "output_type": "execute_result",
          "data": {
            "text/plain": [
              "array(['7931791326', 'Não se aplica', '4436251462', ..., '36277071',\n",
              "       '(77) 2291271', '2898842751'], dtype=object)"
            ]
          },
          "metadata": {
            "tags": []
          },
          "execution_count": 57
        }
      ]
    },
    {
      "cell_type": "code",
      "metadata": {
        "colab": {
          "base_uri": "https://localhost:8080/"
        },
        "id": "E5Mzo7iaXaA3",
        "outputId": "82af95a7-e943-4110-afa4-9607d940a635"
      },
      "source": [
        "# Outra forma de verificarmos possiveis caracteres diferentes\r\n",
        "df.dsc_telefone.value_counts()"
      ],
      "execution_count": 58,
      "outputs": [
        {
          "output_type": "execute_result",
          "data": {
            "text/plain": [
              "Não se aplica    7891\n",
              "(83) 30499500      38\n",
              "(91)37512003       28\n",
              "(96)2131109        27\n",
              "(33)32712088       23\n",
              "                 ... \n",
              "6733149006          1\n",
              "2424315069          1\n",
              "4732731077          1\n",
              "(37)35251343        1\n",
              "7736124422          1\n",
              "Name: dsc_telefone, Length: 25185, dtype: int64"
            ]
          },
          "metadata": {
            "tags": []
          },
          "execution_count": 58
        }
      ]
    },
    {
      "cell_type": "code",
      "metadata": {
        "id": "BV03Z7w7XmD3"
      },
      "source": [
        "# Utilizando o str.replace conseguimos retirar espaços em brancos e caracteres indesejadas\r\n",
        "df['dsc_telefone'] = df['dsc_telefone'].str.replace('(', '').str.replace(')', '').str.replace(\" \", \"\")"
      ],
      "execution_count": 59,
      "outputs": []
    },
    {
      "cell_type": "code",
      "metadata": {
        "colab": {
          "base_uri": "https://localhost:8080/"
        },
        "id": "tCKZVd8qX4k7",
        "outputId": "f717dcda-aa10-47db-d560-1fb927f3ac94"
      },
      "source": [
        "# Verificando a alteração\r\n",
        "df.dsc_telefone.unique()"
      ],
      "execution_count": 60,
      "outputs": [
        {
          "output_type": "execute_result",
          "data": {
            "text/plain": [
              "array(['7931791326', 'Nãoseaplica', '4436251462', ..., '36277071',\n",
              "       '772291271', '2898842751'], dtype=object)"
            ]
          },
          "metadata": {
            "tags": []
          },
          "execution_count": 60
        }
      ]
    },
    {
      "cell_type": "code",
      "metadata": {
        "colab": {
          "base_uri": "https://localhost:8080/"
        },
        "id": "S9FBRA7HX9f7",
        "outputId": "d73d2e5b-8000-4b78-9b12-e380b3503512"
      },
      "source": [
        "# Verificando a alteração\r\n",
        "df.dsc_telefone.value_counts()"
      ],
      "execution_count": 61,
      "outputs": [
        {
          "output_type": "execute_result",
          "data": {
            "text/plain": [
              "Nãoseaplica    7891\n",
              "8330499500       38\n",
              "9137512003       28\n",
              "962131109        27\n",
              "3332712088       24\n",
              "               ... \n",
              "9236249763        1\n",
              "27421367          1\n",
              "35514837          1\n",
              "1432641007        1\n",
              "7736124422        1\n",
              "Name: dsc_telefone, Length: 24744, dtype: int64"
            ]
          },
          "metadata": {
            "tags": []
          },
          "execution_count": 61
        }
      ]
    },
    {
      "cell_type": "markdown",
      "metadata": {
        "id": "dd4Z_fbqKxqw"
      },
      "source": [
        "### **Q4. How many records achieved an above or much above average performance regarding the status of the drugs and what is the percentage of this value considering the size of the database?**"
      ]
    },
    {
      "cell_type": "code",
      "metadata": {
        "colab": {
          "base_uri": "https://localhost:8080/"
        },
        "id": "EEFs99dxKwWM",
        "outputId": "9073f717-fcea-4ec0-f450-077e9f3fe37d"
      },
      "source": [
        "# Desempenho \r\n",
        "df.dsc_medicamentos.value_counts()"
      ],
      "execution_count": 38,
      "outputs": [
        {
          "output_type": "execute_result",
          "data": {
            "text/plain": [
              "Desempenho mediano ou  um pouco abaixo da média    20741\n",
              "Desempenho acima da média                          12781\n",
              "Desempenho muito acima da média                     4168\n",
              "Name: dsc_medicamentos, dtype: int64"
            ]
          },
          "metadata": {
            "tags": []
          },
          "execution_count": 38
        }
      ]
    },
    {
      "cell_type": "code",
      "metadata": {
        "colab": {
          "base_uri": "https://localhost:8080/"
        },
        "id": "ZQ8iz3fUNyZ2",
        "outputId": "00e4f327-471a-420a-9bb9-5cf1c6c992c2"
      },
      "source": [
        "# Soma dos registros acima da média e muito acima da média\r\n",
        "total_acima = df.dsc_medicamentos.value_counts().iloc[1] + df.dsc_medicamentos.value_counts().iloc[2]\r\n",
        "total_acima"
      ],
      "execution_count": 39,
      "outputs": [
        {
          "output_type": "execute_result",
          "data": {
            "text/plain": [
              "16949"
            ]
          },
          "metadata": {
            "tags": []
          },
          "execution_count": 39
        }
      ]
    },
    {
      "cell_type": "code",
      "metadata": {
        "colab": {
          "base_uri": "https://localhost:8080/"
        },
        "id": "-wZA89eDN3zd",
        "outputId": "c651e36b-8d37-4d0e-f723-c3bb2414aed9"
      },
      "source": [
        "# Total de dsc_medicamentos registrados\r\n",
        "total_medic = df.dsc_medicamentos.str.len().value_counts().sum()\r\n",
        "total_medic"
      ],
      "execution_count": 40,
      "outputs": [
        {
          "output_type": "execute_result",
          "data": {
            "text/plain": [
              "37690"
            ]
          },
          "metadata": {
            "tags": []
          },
          "execution_count": 40
        }
      ]
    },
    {
      "cell_type": "code",
      "metadata": {
        "colab": {
          "base_uri": "https://localhost:8080/"
        },
        "id": "UZ5xcqy5N5V-",
        "outputId": "c24b4aed-f682-411b-8cb1-0fc759600657"
      },
      "source": [
        "# Porcentagem desse valor considerando o tamanho total de registros\r\n",
        "total_acima / total_medic * 100"
      ],
      "execution_count": 41,
      "outputs": [
        {
          "output_type": "execute_result",
          "data": {
            "text/plain": [
              "44.96948792783232"
            ]
          },
          "metadata": {
            "tags": []
          },
          "execution_count": 41
        }
      ]
    },
    {
      "cell_type": "markdown",
      "metadata": {
        "id": "x3OZmvrxOQdd"
      },
      "source": [
        "### **Q5. How many records in Bahia (code 29) achieved an average performance in relation to the situation of the drugs and a performance above or much above the average in relation to the situation of the equipment and what is the percentage of this value considering the size of the database?**"
      ]
    },
    {
      "cell_type": "code",
      "metadata": {
        "colab": {
          "base_uri": "https://localhost:8080/"
        },
        "id": "LBz4NpL6OWdN",
        "outputId": "c54a7479-ac36-495f-e2da-d6c5348609f3"
      },
      "source": [
        "# Desempenho médio em relação à situação dos medicamentos \r\n",
        "df.loc[df.uf == \"29\", ['dsc_medicamentos']].value_counts()"
      ],
      "execution_count": 42,
      "outputs": [
        {
          "output_type": "execute_result",
          "data": {
            "text/plain": [
              "dsc_medicamentos                               \n",
              "Desempenho mediano ou  um pouco abaixo da média    1932\n",
              "Desempenho acima da média                          1417\n",
              "Desempenho muito acima da média                     222\n",
              "dtype: int64"
            ]
          },
          "metadata": {
            "tags": []
          },
          "execution_count": 42
        }
      ]
    },
    {
      "cell_type": "code",
      "metadata": {
        "colab": {
          "base_uri": "https://localhost:8080/"
        },
        "id": "QHQ4u1MnOc8L",
        "outputId": "d7bb3bf0-3889-4145-ac0d-e6a354690b55"
      },
      "source": [
        "total_uf29_med = df.loc[df.uf == \"29\", ['dsc_medicamentos']].value_counts().sum()\r\n",
        "desempenho_mediano = df.loc[df.uf == \"29\", ['dsc_medicamentos']].value_counts().iloc[0]\r\n",
        "porcen_uf29_mediano = desempenho_mediano / total_uf29_med * 100\r\n",
        "print(\"A porcentagem desse valor considerando o tamanho do banco de dados é \" + \"{:.2f}%\".format(porcen_uf29_mediano))"
      ],
      "execution_count": 43,
      "outputs": [
        {
          "output_type": "stream",
          "text": [
            "A porcentagem desse valor considerando o tamanho do banco de dados é 54.10%\n"
          ],
          "name": "stdout"
        }
      ]
    },
    {
      "cell_type": "code",
      "metadata": {
        "colab": {
          "base_uri": "https://localhost:8080/"
        },
        "id": "A4hMAMNEOxTP",
        "outputId": "9ddb8f8d-323c-4291-a026-37336f7961bf"
      },
      "source": [
        "# Desempenho acima ou muito acima da média em relação à situação dos equipamentos\r\n",
        "df.loc[df.uf == \"29\", ['dsc_equipamentos']].value_counts()"
      ],
      "execution_count": 44,
      "outputs": [
        {
          "output_type": "execute_result",
          "data": {
            "text/plain": [
              "dsc_equipamentos                               \n",
              "Desempenho mediano ou  um pouco abaixo da média    2874\n",
              "Desempenho acima da média                           635\n",
              "Desempenho muito acima da média                      62\n",
              "dtype: int64"
            ]
          },
          "metadata": {
            "tags": []
          },
          "execution_count": 44
        }
      ]
    },
    {
      "cell_type": "code",
      "metadata": {
        "colab": {
          "base_uri": "https://localhost:8080/"
        },
        "id": "B26QMQ1iO8Qj",
        "outputId": "3d666138-2d56-41cd-d53e-fd730f5958ce"
      },
      "source": [
        "total_uf29_equip = df.loc[df.uf == \"29\", ['dsc_equipamentos']].value_counts().sum()\r\n",
        "desempenho_acima = df.loc[df.uf == \"29\", ['dsc_equipamentos']].value_counts().iloc[0]\r\n",
        "porcen_uf29_acima = desempenho_acima / total_uf29_equip * 100\r\n",
        "print(\"A porcentagem desse valor considerando o tamanho do banco de dados é \" + \"{:.2f}%\".format(porcen_uf29_acima))"
      ],
      "execution_count": 45,
      "outputs": [
        {
          "output_type": "stream",
          "text": [
            "A porcentagem desse valor considerando o tamanho do banco de dados é 80.48%\n"
          ],
          "name": "stdout"
        }
      ]
    },
    {
      "cell_type": "markdown",
      "metadata": {
        "id": "YNGVesTGPH-Y"
      },
      "source": [
        "### **Q6. How many records had the worst performance in all variables that measure performance situations and what is the percentage of this value considering the size of the database??**"
      ]
    },
    {
      "cell_type": "code",
      "metadata": {
        "colab": {
          "base_uri": "https://localhost:8080/",
          "height": 151
        },
        "id": "fNUTImyNPOya",
        "outputId": "c73f6ed9-54c7-4ba0-d70b-72c17b12578c"
      },
      "source": [
        "# Visualizar quais variaveis utilizam deste metodo avaliativo\r\n",
        "df.head(1)"
      ],
      "execution_count": 46,
      "outputs": [
        {
          "output_type": "execute_result",
          "data": {
            "text/html": [
              "<div>\n",
              "<style scoped>\n",
              "    .dataframe tbody tr th:only-of-type {\n",
              "        vertical-align: middle;\n",
              "    }\n",
              "\n",
              "    .dataframe tbody tr th {\n",
              "        vertical-align: top;\n",
              "    }\n",
              "\n",
              "    .dataframe thead th {\n",
              "        text-align: right;\n",
              "    }\n",
              "</style>\n",
              "<table border=\"1\" class=\"dataframe\">\n",
              "  <thead>\n",
              "    <tr style=\"text-align: right;\">\n",
              "      <th></th>\n",
              "      <th>vlr_latitude</th>\n",
              "      <th>vlr_longitude</th>\n",
              "      <th>cod_munic</th>\n",
              "      <th>cod_cnes</th>\n",
              "      <th>nom_estab</th>\n",
              "      <th>dsc_endereco</th>\n",
              "      <th>dsc_bairro</th>\n",
              "      <th>dsc_cidade</th>\n",
              "      <th>dsc_telefone</th>\n",
              "      <th>dsc_estrut_fisic_ambiencia</th>\n",
              "      <th>dsc_adap_defic_fisic_idosos</th>\n",
              "      <th>dsc_equipamentos</th>\n",
              "      <th>dsc_medicamentos</th>\n",
              "      <th>data_eq</th>\n",
              "      <th>uf</th>\n",
              "      <th>ano</th>\n",
              "    </tr>\n",
              "  </thead>\n",
              "  <tbody>\n",
              "    <tr>\n",
              "      <th>0</th>\n",
              "      <td>-10.911237</td>\n",
              "      <td>-37.062078</td>\n",
              "      <td>280030</td>\n",
              "      <td>3492</td>\n",
              "      <td>US OSWALDO DE SOUZA</td>\n",
              "      <td>TV ADALTO BOTELHO</td>\n",
              "      <td>GETULIO VARGAS</td>\n",
              "      <td>Aracaju</td>\n",
              "      <td>7931791326</td>\n",
              "      <td>Desempenho acima da média</td>\n",
              "      <td>Desempenho muito acima da média</td>\n",
              "      <td>Desempenho mediano ou  um pouco abaixo da média</td>\n",
              "      <td>Desempenho acima da média</td>\n",
              "      <td>2017-06-15</td>\n",
              "      <td>28</td>\n",
              "      <td>2017</td>\n",
              "    </tr>\n",
              "  </tbody>\n",
              "</table>\n",
              "</div>"
            ],
            "text/plain": [
              "   vlr_latitude  vlr_longitude  cod_munic  ...     data_eq  uf   ano\n",
              "0    -10.911237     -37.062078     280030  ...  2017-06-15  28  2017\n",
              "\n",
              "[1 rows x 16 columns]"
            ]
          },
          "metadata": {
            "tags": []
          },
          "execution_count": 46
        }
      ]
    },
    {
      "cell_type": "code",
      "metadata": {
        "colab": {
          "base_uri": "https://localhost:8080/"
        },
        "id": "C2-yvim2PgZO",
        "outputId": "d8e361e1-a290-4237-94ea-85586a1a9245"
      },
      "source": [
        "# Avaliando desempenho estrutura fisica\r\n",
        "df.dsc_estrut_fisic_ambiencia.value_counts()"
      ],
      "execution_count": 47,
      "outputs": [
        {
          "output_type": "execute_result",
          "data": {
            "text/plain": [
              "Desempenho mediano ou  um pouco abaixo da média    21909\n",
              "Desempenho acima da média                           9042\n",
              "Desempenho muito acima da média                     6739\n",
              "Name: dsc_estrut_fisic_ambiencia, dtype: int64"
            ]
          },
          "metadata": {
            "tags": []
          },
          "execution_count": 47
        }
      ]
    },
    {
      "cell_type": "code",
      "metadata": {
        "colab": {
          "base_uri": "https://localhost:8080/"
        },
        "id": "2tN5Kf6gPmF0",
        "outputId": "56f4fa92-ba47-482d-a0da-5775bced0d9a"
      },
      "source": [
        "# Guardando pior desempenho estrutura fisica\r\n",
        "desempenho_pior_estrut = df.dsc_estrut_fisic_ambiencia.value_counts().iloc[0]\r\n",
        "desempenho_pior_estrut"
      ],
      "execution_count": 48,
      "outputs": [
        {
          "output_type": "execute_result",
          "data": {
            "text/plain": [
              "21909"
            ]
          },
          "metadata": {
            "tags": []
          },
          "execution_count": 48
        }
      ]
    },
    {
      "cell_type": "code",
      "metadata": {
        "colab": {
          "base_uri": "https://localhost:8080/"
        },
        "id": "lxyeRZ8AP07V",
        "outputId": "d477513b-eb08-4e58-fe38-7957d79c3fe0"
      },
      "source": [
        "# Avaliando desempenho adaptabilidade\r\n",
        "df.dsc_adap_defic_fisic_idosos.value_counts()"
      ],
      "execution_count": 49,
      "outputs": [
        {
          "output_type": "execute_result",
          "data": {
            "text/plain": [
              "Desempenho mediano ou  um pouco abaixo da média    24366\n",
              "Desempenho acima da média                           8905\n",
              "Desempenho muito acima da média                     4419\n",
              "Name: dsc_adap_defic_fisic_idosos, dtype: int64"
            ]
          },
          "metadata": {
            "tags": []
          },
          "execution_count": 49
        }
      ]
    },
    {
      "cell_type": "code",
      "metadata": {
        "colab": {
          "base_uri": "https://localhost:8080/"
        },
        "id": "xdwirY_eP7cr",
        "outputId": "4e90c803-6032-442a-9837-85e01e472d6c"
      },
      "source": [
        "# Guardando pior desempenho adaptabilidade\r\n",
        "desempenho_pior_adap = df.dsc_adap_defic_fisic_idosos.value_counts().iloc[0]\r\n",
        "desempenho_pior_adap"
      ],
      "execution_count": 54,
      "outputs": [
        {
          "output_type": "execute_result",
          "data": {
            "text/plain": [
              "24366"
            ]
          },
          "metadata": {
            "tags": []
          },
          "execution_count": 54
        }
      ]
    },
    {
      "cell_type": "code",
      "metadata": {
        "colab": {
          "base_uri": "https://localhost:8080/"
        },
        "id": "4VZfHpweP_fM",
        "outputId": "a2b9208c-4b8f-4189-f03a-0263f9f579f2"
      },
      "source": [
        "# Avaliando desempenho equipamentos\r\n",
        "df.dsc_equipamentos.value_counts()"
      ],
      "execution_count": 50,
      "outputs": [
        {
          "output_type": "execute_result",
          "data": {
            "text/plain": [
              "Desempenho mediano ou  um pouco abaixo da média    29922\n",
              "Desempenho acima da média                           6424\n",
              "Desempenho muito acima da média                     1344\n",
              "Name: dsc_equipamentos, dtype: int64"
            ]
          },
          "metadata": {
            "tags": []
          },
          "execution_count": 50
        }
      ]
    },
    {
      "cell_type": "code",
      "metadata": {
        "colab": {
          "base_uri": "https://localhost:8080/"
        },
        "id": "uOoMjUGhQGmp",
        "outputId": "9ff27432-547c-4bda-86ff-ae87f33e9be6"
      },
      "source": [
        "# Guardando pior desempenho equipamentos\r\n",
        "desempenho_pior_equip = df.dsc_equipamentos.value_counts().iloc[0]\r\n",
        "desempenho_pior_equip"
      ],
      "execution_count": 51,
      "outputs": [
        {
          "output_type": "execute_result",
          "data": {
            "text/plain": [
              "29922"
            ]
          },
          "metadata": {
            "tags": []
          },
          "execution_count": 51
        }
      ]
    },
    {
      "cell_type": "code",
      "metadata": {
        "colab": {
          "base_uri": "https://localhost:8080/"
        },
        "id": "A58Sqfv3QWGN",
        "outputId": "9bec9916-af64-4d7a-9c8f-6d224488d8db"
      },
      "source": [
        "# Avaliando desempenho medicamentos\r\n",
        "df.dsc_medicamentos.value_counts()"
      ],
      "execution_count": 52,
      "outputs": [
        {
          "output_type": "execute_result",
          "data": {
            "text/plain": [
              "Desempenho mediano ou  um pouco abaixo da média    20741\n",
              "Desempenho acima da média                          12781\n",
              "Desempenho muito acima da média                     4168\n",
              "Name: dsc_medicamentos, dtype: int64"
            ]
          },
          "metadata": {
            "tags": []
          },
          "execution_count": 52
        }
      ]
    },
    {
      "cell_type": "code",
      "metadata": {
        "colab": {
          "base_uri": "https://localhost:8080/"
        },
        "id": "O-uRYPisQZh3",
        "outputId": "730455d3-58a7-4590-8cd1-031f00b411e2"
      },
      "source": [
        "# Guardando pior desempenho medicamentos\r\n",
        "desempenho_pior_medic = df.dsc_medicamentos.value_counts().iloc[0]\r\n",
        "desempenho_pior_medic"
      ],
      "execution_count": 53,
      "outputs": [
        {
          "output_type": "execute_result",
          "data": {
            "text/plain": [
              "20741"
            ]
          },
          "metadata": {
            "tags": []
          },
          "execution_count": 53
        }
      ]
    },
    {
      "cell_type": "code",
      "metadata": {
        "colab": {
          "base_uri": "https://localhost:8080/"
        },
        "id": "OxBzVfZbQmcV",
        "outputId": "213aee8c-5b1a-47ae-d460-e8b7833f778b"
      },
      "source": [
        "# Soma dos 4 piores desempenho de cada variavel \r\n",
        "total_pior_desempenho = desempenho_pior_estrut + desempenho_pior_adap + desempenho_pior_equip + desempenho_pior_medic\r\n",
        "total_pior_desempenho"
      ],
      "execution_count": 55,
      "outputs": [
        {
          "output_type": "execute_result",
          "data": {
            "text/plain": [
              "96938"
            ]
          },
          "metadata": {
            "tags": []
          },
          "execution_count": 55
        }
      ]
    },
    {
      "cell_type": "code",
      "metadata": {
        "colab": {
          "base_uri": "https://localhost:8080/"
        },
        "id": "f0e8RT6pQwL7",
        "outputId": "f3f8b61b-7da3-4631-d850-dc2896d5dcba"
      },
      "source": [
        "# Porcentagem sobre o total do banco de dados que é 150760 contando com 37690 entradas de cada variavel multiplicado por 4\r\n",
        "porcen_desemp_pior = total_pior_desempenho / 150760 * 100\r\n",
        "print(\"A porcentagem desse valor considerando o tamanho do banco de dados é \" + \"{:.2f}%\".format(porcen_desemp_pior))"
      ],
      "execution_count": 56,
      "outputs": [
        {
          "output_type": "stream",
          "text": [
            "A porcentagem desse valor considerando o tamanho do banco de dados é 64.30%\n"
          ],
          "name": "stdout"
        }
      ]
    },
    {
      "cell_type": "markdown",
      "metadata": {
        "id": "BRDKQ7y6YfMP"
      },
      "source": [
        "## Conclusões"
      ]
    },
    {
      "cell_type": "markdown",
      "metadata": {
        "id": "ojAgySabY5JU"
      },
      "source": [
        "Foi feita apenas uma análise superficial na base de dados das UBS Ministério da Saúde, porém já se percebeu que existem *outliers* em algumas das variáveis.\r\n",
        "\r\n",
        "Os registros são datados de somente **2016** a **2018**, onde ocorreu uma leve superação na quantidade de resgistro de um ano para o outro.\r\n",
        "\r\n",
        "Também se notou que em algumas localidades há **poucas UBS** disponíveis como Brasilia, Roraima, Amapá, Acre e Rondônia.\r\n",
        "\r\n",
        "O **desempenho** do estado da **Bahia** no quesito equipamentos chega a surpreendente marca de **80,48%** acima ou muito acima da media, porém no quesito medicamentos o desempenho mediano predomina com **54,10%**.\r\n",
        "\r\n",
        "Contabilizando todos os registros de **pior desempenho** de todas as variaveis que medem este tipo de situação a **porcentagem** comparada ao total são de **64,30%**.\r\n",
        "\r\n",
        "Por fim, lembra-se que este *dataset* é uma versão resumida, ideal apenas para uma abordagem inicial. **Recomenda-se** que seja usado, em uma próxima análise exploratória, o conjunto de dados **completo**."
      ]
    }
  ]
}